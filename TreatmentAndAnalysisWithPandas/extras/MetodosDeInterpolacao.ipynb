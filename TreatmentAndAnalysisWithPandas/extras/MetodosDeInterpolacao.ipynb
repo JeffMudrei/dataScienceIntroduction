{
  "nbformat": 4,
  "nbformat_minor": 0,
  "metadata": {
    "colab": {
      "name": "MetodosDeInterpolacao.ipynb",
      "provenance": []
    },
    "kernelspec": {
      "name": "python3",
      "display_name": "Python 3"
    }
  },
  "cells": [
    {
      "cell_type": "code",
      "metadata": {
        "id": "r1ZVUiq1jeMA",
        "colab_type": "code",
        "colab": {}
      },
      "source": [
        "import pandas as pd"
      ],
      "execution_count": 1,
      "outputs": []
    },
    {
      "cell_type": "code",
      "metadata": {
        "id": "z9cW8N_XjqRt",
        "colab_type": "code",
        "colab": {
          "base_uri": "https://localhost:8080/",
          "height": 278
        },
        "outputId": "c43fe3af-ce52-4fb4-8094-5f80e365fac0"
      },
      "source": [
        "data = [0.5,None, None, 0.52, 0.54, None, None, 0.6, 0.8, 0.9, 0.7, None, 0 , 0.45]\n",
        "s = pd.Series(data)\n",
        "s"
      ],
      "execution_count": 3,
      "outputs": [
        {
          "output_type": "execute_result",
          "data": {
            "text/plain": [
              "0     0.50\n",
              "1      NaN\n",
              "2      NaN\n",
              "3     0.52\n",
              "4     0.54\n",
              "5      NaN\n",
              "6      NaN\n",
              "7     0.60\n",
              "8     0.80\n",
              "9     0.90\n",
              "10    0.70\n",
              "11     NaN\n",
              "12    0.00\n",
              "13    0.45\n",
              "dtype: float64"
            ]
          },
          "metadata": {
            "tags": []
          },
          "execution_count": 3
        }
      ]
    },
    {
      "cell_type": "code",
      "metadata": {
        "id": "HF0N-UqlkBFQ",
        "colab_type": "code",
        "colab": {
          "base_uri": "https://localhost:8080/",
          "height": 278
        },
        "outputId": "3a159471-429a-4c02-cb3d-bc1d77be5517"
      },
      "source": [
        "s.fillna(0)"
      ],
      "execution_count": 4,
      "outputs": [
        {
          "output_type": "execute_result",
          "data": {
            "text/plain": [
              "0     0.50\n",
              "1     0.00\n",
              "2     0.00\n",
              "3     0.52\n",
              "4     0.54\n",
              "5     0.00\n",
              "6     0.00\n",
              "7     0.60\n",
              "8     0.80\n",
              "9     0.90\n",
              "10    0.70\n",
              "11    0.00\n",
              "12    0.00\n",
              "13    0.45\n",
              "dtype: float64"
            ]
          },
          "metadata": {
            "tags": []
          },
          "execution_count": 4
        }
      ]
    },
    {
      "cell_type": "code",
      "metadata": {
        "id": "yQ2rvTfskJ26",
        "colab_type": "code",
        "colab": {
          "base_uri": "https://localhost:8080/",
          "height": 278
        },
        "outputId": "770e308c-8a86-4cf2-f084-f84fd1ae8ac1"
      },
      "source": [
        "s.fillna(method='ffill') "
      ],
      "execution_count": 5,
      "outputs": [
        {
          "output_type": "execute_result",
          "data": {
            "text/plain": [
              "0     0.50\n",
              "1     0.50\n",
              "2     0.50\n",
              "3     0.52\n",
              "4     0.54\n",
              "5     0.54\n",
              "6     0.54\n",
              "7     0.60\n",
              "8     0.80\n",
              "9     0.90\n",
              "10    0.70\n",
              "11    0.70\n",
              "12    0.00\n",
              "13    0.45\n",
              "dtype: float64"
            ]
          },
          "metadata": {
            "tags": []
          },
          "execution_count": 5
        }
      ]
    },
    {
      "cell_type": "code",
      "metadata": {
        "id": "lUnSbodqkOyn",
        "colab_type": "code",
        "colab": {
          "base_uri": "https://localhost:8080/",
          "height": 278
        },
        "outputId": "f585a608-5ace-4053-ba15-b952061ee43e"
      },
      "source": [
        "s.fillna(method='bfill')"
      ],
      "execution_count": 6,
      "outputs": [
        {
          "output_type": "execute_result",
          "data": {
            "text/plain": [
              "0     0.50\n",
              "1     0.52\n",
              "2     0.52\n",
              "3     0.52\n",
              "4     0.54\n",
              "5     0.60\n",
              "6     0.60\n",
              "7     0.60\n",
              "8     0.80\n",
              "9     0.90\n",
              "10    0.70\n",
              "11    0.00\n",
              "12    0.00\n",
              "13    0.45\n",
              "dtype: float64"
            ]
          },
          "metadata": {
            "tags": []
          },
          "execution_count": 6
        }
      ]
    },
    {
      "cell_type": "code",
      "metadata": {
        "id": "nBtn1qrbkfut",
        "colab_type": "code",
        "colab": {
          "base_uri": "https://localhost:8080/",
          "height": 278
        },
        "outputId": "6e6ecfb5-e580-4265-af03-3e9046fbe42d"
      },
      "source": [
        "s.fillna(s.mean())"
      ],
      "execution_count": 7,
      "outputs": [
        {
          "output_type": "execute_result",
          "data": {
            "text/plain": [
              "0     0.500000\n",
              "1     0.556667\n",
              "2     0.556667\n",
              "3     0.520000\n",
              "4     0.540000\n",
              "5     0.556667\n",
              "6     0.556667\n",
              "7     0.600000\n",
              "8     0.800000\n",
              "9     0.900000\n",
              "10    0.700000\n",
              "11    0.556667\n",
              "12    0.000000\n",
              "13    0.450000\n",
              "dtype: float64"
            ]
          },
          "metadata": {
            "tags": []
          },
          "execution_count": 7
        }
      ]
    },
    {
      "cell_type": "code",
      "metadata": {
        "id": "KGgE1pBKkngZ",
        "colab_type": "code",
        "colab": {
          "base_uri": "https://localhost:8080/",
          "height": 278
        },
        "outputId": "a249f203-3014-4d97-bb34-e8cb6ed1f1e3"
      },
      "source": [
        "s.fillna(method='ffill', limit=1)"
      ],
      "execution_count": 8,
      "outputs": [
        {
          "output_type": "execute_result",
          "data": {
            "text/plain": [
              "0     0.50\n",
              "1     0.50\n",
              "2      NaN\n",
              "3     0.52\n",
              "4     0.54\n",
              "5     0.54\n",
              "6      NaN\n",
              "7     0.60\n",
              "8     0.80\n",
              "9     0.90\n",
              "10    0.70\n",
              "11    0.70\n",
              "12    0.00\n",
              "13    0.45\n",
              "dtype: float64"
            ]
          },
          "metadata": {
            "tags": []
          },
          "execution_count": 8
        }
      ]
    },
    {
      "cell_type": "code",
      "metadata": {
        "id": "vbIiFo7ck1FI",
        "colab_type": "code",
        "colab": {}
      },
      "source": [
        ""
      ],
      "execution_count": null,
      "outputs": []
    }
  ]
}